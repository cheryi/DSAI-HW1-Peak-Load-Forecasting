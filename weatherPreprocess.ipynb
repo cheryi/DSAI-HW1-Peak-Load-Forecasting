{
 "cells": [
  {
   "cell_type": "markdown",
   "metadata": {},
   "source": [
    "### import lib"
   ]
  },
  {
   "cell_type": "code",
   "execution_count": 1,
   "metadata": {},
   "outputs": [],
   "source": [
    "import numpy as np\n",
    "import pandas as pd\n",
    "import os"
   ]
  },
  {
   "cell_type": "markdown",
   "metadata": {},
   "source": [
    "### Read city data and do average as daily data\n",
    "##### Each data is weather data for a city, download from http://e-service.cwb.gov.tw/HistoryDataQuery/index.jsp"
   ]
  },
  {
   "cell_type": "code",
   "execution_count": 111,
   "metadata": {},
   "outputs": [],
   "source": [
    "def Read_Data(directory):\n",
    "    time_line = ['2017-03','2017-04','2018-03','2018-04']\n",
    "    thero_data = {}\n",
    "    \n",
    "    for each in time_line:\n",
    "        temp_df = pd.DataFrame()\n",
    "        for file in os.listdir(directory):\n",
    "            if 'csv' in file and each in file:\n",
    "                inputfile = str(directory)+\"/\"+str(file)\n",
    "                data = pd.read_csv(inputfile,sep=',', usecols = ['Temperature'])\n",
    "                temp_df = pd.concat([temp_df,data],axis=1)\n",
    "#         break\n",
    "        thero_data[each] = temp_df.mean(axis=1)\n",
    "    \n",
    "    return thero_data"
   ]
  },
  {
   "cell_type": "code",
   "execution_count": 114,
   "metadata": {},
   "outputs": [],
   "source": [
    "data = Read_Data(\"weather\")"
   ]
  },
  {
   "cell_type": "markdown",
   "metadata": {},
   "source": [
    "### Write to csv"
   ]
  },
  {
   "cell_type": "code",
   "execution_count": 115,
   "metadata": {},
   "outputs": [],
   "source": [
    "def Write_Out(data):\n",
    "    output_file = \"weather.csv\"\n",
    "    f_out = open(output_file,'w')\n",
    "    data.to_csv(output_file,index=False,sep=',')\n",
    "    \n",
    "Write_Out(pd.DataFrame.from_dict(data))"
   ]
  },
  {
   "cell_type": "code",
   "execution_count": null,
   "metadata": {},
   "outputs": [],
   "source": []
  }
 ],
 "metadata": {
  "kernelspec": {
   "display_name": "Python 3",
   "language": "python",
   "name": "python3"
  },
  "language_info": {
   "codemirror_mode": {
    "name": "ipython",
    "version": 3
   },
   "file_extension": ".py",
   "mimetype": "text/x-python",
   "name": "python",
   "nbconvert_exporter": "python",
   "pygments_lexer": "ipython3",
   "version": "3.6.8"
  }
 },
 "nbformat": 4,
 "nbformat_minor": 2
}
